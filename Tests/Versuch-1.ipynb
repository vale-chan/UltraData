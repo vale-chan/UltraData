{
 "cells": [
  {
   "cell_type": "code",
   "execution_count": 2,
   "metadata": {},
   "outputs": [],
   "source": [
    "import pandas as pd"
   ]
  },
  {
   "cell_type": "code",
   "execution_count": 3,
   "metadata": {},
   "outputs": [],
   "source": [
    "MasterCodebook = pd.DataFrame(\n",
    "    {\n",
    "        \"Variable Name\": [],\n",
    "        \"Label\": [],\n",
    "        \"Alternative Labels\": [],\n",
    "        \"Type\": [],\n",
    "        \"Data Type\": [],\n",
    "        \"Value Codes\": [],\n",
    "        \"Missing Code\": []\n",
    "    }\n",
    ")"
   ]
  },
  {
   "cell_type": "code",
   "execution_count": 5,
   "metadata": {},
   "outputs": [],
   "source": [
    "UltraData = pd.DataFrame(\n",
    " {\n",
    "     \"DbID\": [],\n",
    "     \"Studiengang\": [],\n",
    "     \"Fakultät\": [],\n",
    "     \"Geschlecht\": [],\n",
    "     \"Jahr\": [],\n",
    "     \"Semester\": [],\n",
    "     \"Dozent\": [],\n",
    "     \"Fachbereich\": [],\n",
    "     \"Modulinfo\": []\n",
    " }   \n",
    ")"
   ]
  },
  {
   "cell_type": "code",
   "execution_count": null,
   "metadata": {},
   "outputs": [],
   "source": []
  }
 ],
 "metadata": {
  "interpreter": {
   "hash": "aee8b7b246df8f9039afb4144a1f6fd8d2ca17a180786b69acc140d282b71a49"
  },
  "kernelspec": {
   "display_name": "Python 3.7.4 64-bit",
   "language": "python",
   "name": "python3"
  },
  "language_info": {
   "codemirror_mode": {
    "name": "ipython",
    "version": 3
   },
   "file_extension": ".py",
   "mimetype": "text/x-python",
   "name": "python",
   "nbconvert_exporter": "python",
   "pygments_lexer": "ipython3",
   "version": "3.7.4"
  },
  "orig_nbformat": 4
 },
 "nbformat": 4,
 "nbformat_minor": 2
}
